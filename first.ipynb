{
 "cells": [
  {
   "cell_type": "code",
   "id": "initial_id",
   "metadata": {
    "collapsed": true,
    "ExecuteTime": {
     "end_time": "2024-07-29T08:03:13.050904Z",
     "start_time": "2024-07-29T08:03:12.941478Z"
    }
   },
   "source": "import numpy as np",
   "outputs": [],
   "execution_count": 1
  },
  {
   "metadata": {},
   "cell_type": "markdown",
   "source": "creating 1d arry",
   "id": "4191ef2eb9bcd844"
  },
  {
   "metadata": {
    "ExecuteTime": {
     "end_time": "2024-07-29T08:03:13.055803Z",
     "start_time": "2024-07-29T08:03:13.052195Z"
    }
   },
   "cell_type": "code",
   "source": [
    "arr_1d = np.array([1,2,3,4,5,6,7,8,9,10])\n",
    "print(arr_1d)\n",
    "arr_2d = np.array([[1,2,3],[4,5,6]])\n",
    "print(arr_2d)\n",
    "arr_3d = np.array([[1,2,3],[4,5,6],[7,8,9]])\n",
    "print(arr_3d)\n",
    "arr_4d = np.array([[1,2,3],[4,5,6],[7,8,9],[10,11,12]])\n",
    "print(arr_4d)"
   ],
   "id": "a9436b139961ddfe",
   "outputs": [
    {
     "name": "stdout",
     "output_type": "stream",
     "text": [
      "[ 1  2  3  4  5  6  7  8  9 10]\n",
      "[[1 2 3]\n",
      " [4 5 6]]\n",
      "[[1 2 3]\n",
      " [4 5 6]\n",
      " [7 8 9]]\n",
      "[[ 1  2  3]\n",
      " [ 4  5  6]\n",
      " [ 7  8  9]\n",
      " [10 11 12]]\n"
     ]
    }
   ],
   "execution_count": 2
  },
  {
   "metadata": {
    "ExecuteTime": {
     "end_time": "2024-07-29T08:03:13.058954Z",
     "start_time": "2024-07-29T08:03:13.056632Z"
    }
   },
   "cell_type": "code",
   "source": [
    "#checking number of demention\n",
    "print(arr_2d.ndim)\n",
    "#checking shape of array\n",
    "print(arr_3d.shape)\n",
    "#checking total number of elements \n",
    "print(arr_4d.size)"
   ],
   "id": "caa0e822b5b7832a",
   "outputs": [
    {
     "name": "stdout",
     "output_type": "stream",
     "text": [
      "2\n",
      "(3, 3)\n",
      "12\n"
     ]
    }
   ],
   "execution_count": 3
  },
  {
   "metadata": {
    "ExecuteTime": {
     "end_time": "2024-07-29T08:05:49.026371Z",
     "start_time": "2024-07-29T08:05:49.022665Z"
    }
   },
   "cell_type": "code",
   "source": [
    "sample_arr = np.array([0,1,2,3,4,5,6,7,8,9,10])\n",
    "print(sample_arr[::-1])"
   ],
   "id": "5b7ac7e507ea1c7b",
   "outputs": [
    {
     "name": "stdout",
     "output_type": "stream",
     "text": [
      "[10  9  8  7  6  5  4  3  2  1  0]\n"
     ]
    }
   ],
   "execution_count": 8
  },
  {
   "metadata": {
    "ExecuteTime": {
     "end_time": "2024-07-29T08:14:19.492878Z",
     "start_time": "2024-07-29T08:14:19.488194Z"
    }
   },
   "cell_type": "code",
   "source": [
    "sample_arr2d = np.array([[1,2,3,4,5], [6,7,8,9,10], [11,12,13,14,15]])\n",
    "# print(sample_arr2d[:2, :3])\n",
    "print(sample_arr2d[::-1])"
   ],
   "id": "23dfee48e7befc4f",
   "outputs": [
    {
     "name": "stdout",
     "output_type": "stream",
     "text": [
      "[[11 12 13 14 15]\n",
      " [ 6  7  8  9 10]\n",
      " [ 1  2  3  4  5]]\n"
     ]
    }
   ],
   "execution_count": 13
  },
  {
   "metadata": {
    "ExecuteTime": {
     "end_time": "2024-07-29T08:16:45.220145Z",
     "start_time": "2024-07-29T08:16:45.216633Z"
    }
   },
   "cell_type": "code",
   "source": [
    "arr1 = np.array([1,2,3,])\n",
    "arr2 = np.array([4,5,6,])\n",
    "\n",
    "print(arr1 + arr2)\n",
    "print('-' * 40 )\n",
    "print(arr1 - arr2)\n",
    "print('-' * 40 )\n",
    "print(arr1 * arr2)\n",
    "print('-' * 40 )\n",
    "print(arr1 / arr2)\n",
    "print('-' * 40 )\n",
    "print(arr1 ** arr2)\n",
    "print('-' * 40 )\n",
    "print(arr1 % arr2)\n",
    "print('-' * 40 )\n",
    "print(arr1 // arr2)\n"
   ],
   "id": "870ab3a612999bce",
   "outputs": [
    {
     "name": "stdout",
     "output_type": "stream",
     "text": [
      "[5 7 9]\n",
      "----------------------------------------\n",
      "[-3 -3 -3]\n",
      "----------------------------------------\n",
      "[ 4 10 18]\n",
      "----------------------------------------\n",
      "[0.25 0.4  0.5 ]\n",
      "----------------------------------------\n",
      "[  1  32 729]\n",
      "----------------------------------------\n",
      "[1 2 3]\n",
      "----------------------------------------\n",
      "[0 0 0]\n"
     ]
    }
   ],
   "execution_count": 15
  },
  {
   "metadata": {},
   "cell_type": "code",
   "outputs": [],
   "execution_count": null,
   "source": "",
   "id": "44064f4ded9f8208"
  }
 ],
 "metadata": {
  "kernelspec": {
   "display_name": "Python 3",
   "language": "python",
   "name": "python3"
  },
  "language_info": {
   "codemirror_mode": {
    "name": "ipython",
    "version": 2
   },
   "file_extension": ".py",
   "mimetype": "text/x-python",
   "name": "python",
   "nbconvert_exporter": "python",
   "pygments_lexer": "ipython2",
   "version": "2.7.6"
  }
 },
 "nbformat": 4,
 "nbformat_minor": 5
}
