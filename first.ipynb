{
 "cells": [
  {
   "cell_type": "code",
   "id": "initial_id",
   "metadata": {
    "collapsed": true,
    "ExecuteTime": {
     "end_time": "2024-07-28T15:36:04.680797Z",
     "start_time": "2024-07-28T15:36:04.552811Z"
    }
   },
   "source": "import numpy as np",
   "outputs": [],
   "execution_count": 2
  },
  {
   "metadata": {},
   "cell_type": "markdown",
   "source": "creating 1d arry",
   "id": "4191ef2eb9bcd844"
  },
  {
   "metadata": {
    "ExecuteTime": {
     "end_time": "2024-07-28T15:36:04.685361Z",
     "start_time": "2024-07-28T15:36:04.681979Z"
    }
   },
   "cell_type": "code",
   "source": [
    "arr_1d = np.array([1,2,3,4,5,6,7,8,9,10])\n",
    "print(arr_1d)\n",
    "arr_2d = np.array([[1,2,3],[4,5,6]])\n",
    "print(arr_2d)\n",
    "arr_3d = np.array([[1,2,3],[4,5,6],[7,8,9]])\n",
    "print(arr_3d)\n",
    "arr_4d = np.array([[1,2,3],[4,5,6],[7,8,9],[10,11,12]])\n",
    "print(arr_4d)"
   ],
   "id": "a9436b139961ddfe",
   "outputs": [
    {
     "name": "stdout",
     "output_type": "stream",
     "text": [
      "[ 1  2  3  4  5  6  7  8  9 10]\n",
      "[[1 2 3]\n",
      " [4 5 6]]\n",
      "[[1 2 3]\n",
      " [4 5 6]\n",
      " [7 8 9]]\n",
      "[[ 1  2  3]\n",
      " [ 4  5  6]\n",
      " [ 7  8  9]\n",
      " [10 11 12]]\n"
     ]
    }
   ],
   "execution_count": 3
  },
  {
   "metadata": {
    "ExecuteTime": {
     "end_time": "2024-07-28T15:36:04.687881Z",
     "start_time": "2024-07-28T15:36:04.685867Z"
    }
   },
   "cell_type": "code",
   "source": [
    "#checking number of demention\n",
    "print(arr_2d.ndim)\n",
    "#checking shape of array\n",
    "print(arr_3d.shape)\n",
    "#checking total number of elements \n",
    "print(arr_4d.size)"
   ],
   "id": "caa0e822b5b7832a",
   "outputs": [
    {
     "name": "stdout",
     "output_type": "stream",
     "text": [
      "2\n",
      "(3, 3)\n",
      "12\n"
     ]
    }
   ],
   "execution_count": 4
  },
  {
   "metadata": {
    "ExecuteTime": {
     "end_time": "2024-07-28T15:36:04.690301Z",
     "start_time": "2024-07-28T15:36:04.688952Z"
    }
   },
   "cell_type": "code",
   "source": "",
   "id": "5b7ac7e507ea1c7b",
   "outputs": [],
   "execution_count": 4
  }
 ],
 "metadata": {
  "kernelspec": {
   "display_name": "Python 3",
   "language": "python",
   "name": "python3"
  },
  "language_info": {
   "codemirror_mode": {
    "name": "ipython",
    "version": 2
   },
   "file_extension": ".py",
   "mimetype": "text/x-python",
   "name": "python",
   "nbconvert_exporter": "python",
   "pygments_lexer": "ipython2",
   "version": "2.7.6"
  }
 },
 "nbformat": 4,
 "nbformat_minor": 5
}
