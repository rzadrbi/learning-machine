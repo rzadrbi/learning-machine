{
 "cells": [
  {
   "cell_type": "code",
   "id": "initial_id",
   "metadata": {
    "collapsed": true,
    "ExecuteTime": {
     "end_time": "2024-07-31T11:54:10.559925Z",
     "start_time": "2024-07-31T11:54:10.435949Z"
    }
   },
   "source": "import numpy as np",
   "outputs": [],
   "execution_count": 1
  },
  {
   "metadata": {},
   "cell_type": "markdown",
   "source": "creating 1d arry",
   "id": "4191ef2eb9bcd844"
  },
  {
   "metadata": {
    "ExecuteTime": {
     "end_time": "2024-07-31T11:54:10.564366Z",
     "start_time": "2024-07-31T11:54:10.560904Z"
    }
   },
   "cell_type": "code",
   "source": [
    "arr_1d = np.array([1,2,3,4,5,6,7,8,9,10])\n",
    "print(arr_1d)\n",
    "arr_2d = np.array([[1,2,3],[4,5,6]])\n",
    "print(arr_2d)\n",
    "arr_3d = np.array([[1,2,3],[4,5,6],[7,8,9]])\n",
    "print(arr_3d)\n",
    "arr_4d = np.array([[1,2,3],[4,5,6],[7,8,9],[10,11,12]])\n",
    "print(arr_4d)"
   ],
   "id": "a9436b139961ddfe",
   "outputs": [
    {
     "name": "stdout",
     "output_type": "stream",
     "text": [
      "[ 1  2  3  4  5  6  7  8  9 10]\n",
      "[[1 2 3]\n",
      " [4 5 6]]\n",
      "[[1 2 3]\n",
      " [4 5 6]\n",
      " [7 8 9]]\n",
      "[[ 1  2  3]\n",
      " [ 4  5  6]\n",
      " [ 7  8  9]\n",
      " [10 11 12]]\n"
     ]
    }
   ],
   "execution_count": 2
  },
  {
   "metadata": {
    "ExecuteTime": {
     "end_time": "2024-07-31T11:54:10.567616Z",
     "start_time": "2024-07-31T11:54:10.565310Z"
    }
   },
   "cell_type": "code",
   "source": [
    "#checking number of demention\n",
    "print(arr_2d.ndim)\n",
    "#checking shape of array\n",
    "print(arr_3d.shape)\n",
    "#checking total number of elements \n",
    "print(arr_4d.size)"
   ],
   "id": "caa0e822b5b7832a",
   "outputs": [
    {
     "name": "stdout",
     "output_type": "stream",
     "text": [
      "2\n",
      "(3, 3)\n",
      "12\n"
     ]
    }
   ],
   "execution_count": 3
  },
  {
   "metadata": {
    "ExecuteTime": {
     "end_time": "2024-07-31T11:54:10.571577Z",
     "start_time": "2024-07-31T11:54:10.569040Z"
    }
   },
   "cell_type": "code",
   "source": [
    "sample_arr = np.array([0,1,2,3,4,5,6,7,8,9,10])\n",
    "print(sample_arr[::-1])"
   ],
   "id": "5b7ac7e507ea1c7b",
   "outputs": [
    {
     "name": "stdout",
     "output_type": "stream",
     "text": [
      "[10  9  8  7  6  5  4  3  2  1  0]\n"
     ]
    }
   ],
   "execution_count": 4
  },
  {
   "metadata": {
    "ExecuteTime": {
     "end_time": "2024-07-31T11:54:10.575332Z",
     "start_time": "2024-07-31T11:54:10.572597Z"
    }
   },
   "cell_type": "code",
   "source": [
    "sample_arr2d = np.array([[1,2,3,4,5], [6,7,8,9,10], [11,12,13,14,15]])\n",
    "# print(sample_arr2d[:2, :3])\n",
    "print(sample_arr2d[::-1])"
   ],
   "id": "23dfee48e7befc4f",
   "outputs": [
    {
     "name": "stdout",
     "output_type": "stream",
     "text": [
      "[[11 12 13 14 15]\n",
      " [ 6  7  8  9 10]\n",
      " [ 1  2  3  4  5]]\n"
     ]
    }
   ],
   "execution_count": 5
  },
  {
   "metadata": {
    "ExecuteTime": {
     "end_time": "2024-07-31T11:54:10.581023Z",
     "start_time": "2024-07-31T11:54:10.576282Z"
    }
   },
   "cell_type": "code",
   "source": [
    "arr1 = np.array([1,2,3,])\n",
    "arr2 = np.array([4,5,6,])\n",
    "\n",
    "print(arr1 + arr2)\n",
    "print('-' * 40 )\n",
    "print(arr1 - arr2)\n",
    "print('-' * 40 )\n",
    "print(arr1 * arr2)\n",
    "print('-' * 40 )\n",
    "print(arr1 / arr2)\n",
    "print('-' * 40 )\n",
    "print(arr1 ** arr2)\n",
    "print('-' * 40 )\n",
    "print(arr1 % arr2)\n",
    "print('-' * 40 )\n",
    "print(arr1 // arr2)\n"
   ],
   "id": "870ab3a612999bce",
   "outputs": [
    {
     "name": "stdout",
     "output_type": "stream",
     "text": [
      "[5 7 9]\n",
      "----------------------------------------\n",
      "[-3 -3 -3]\n",
      "----------------------------------------\n",
      "[ 4 10 18]\n",
      "----------------------------------------\n",
      "[0.25 0.4  0.5 ]\n",
      "----------------------------------------\n",
      "[  1  32 729]\n",
      "----------------------------------------\n",
      "[1 2 3]\n",
      "----------------------------------------\n",
      "[0 0 0]\n"
     ]
    }
   ],
   "execution_count": 6
  },
  {
   "metadata": {
    "ExecuteTime": {
     "end_time": "2024-07-31T11:54:10.584531Z",
     "start_time": "2024-07-31T11:54:10.581839Z"
    }
   },
   "cell_type": "code",
   "source": [
    "arr1 = np.array([10,10,10,20,20])\n",
    "print(arr1.mean())\n",
    "print(arr1.std())"
   ],
   "id": "44064f4ded9f8208",
   "outputs": [
    {
     "name": "stdout",
     "output_type": "stream",
     "text": [
      "14.0\n",
      "4.898979485566356\n"
     ]
    }
   ],
   "execution_count": 7
  },
  {
   "metadata": {
    "ExecuteTime": {
     "end_time": "2024-07-31T11:54:10.586828Z",
     "start_time": "2024-07-31T11:54:10.585351Z"
    }
   },
   "cell_type": "code",
   "source": "",
   "id": "f838993b8b09ab48",
   "outputs": [],
   "execution_count": 7
  },
  {
   "metadata": {
    "ExecuteTime": {
     "end_time": "2024-07-31T11:54:10.589564Z",
     "start_time": "2024-07-31T11:54:10.587401Z"
    }
   },
   "cell_type": "code",
   "source": [
    "arr_sample = np.array([0,1,2,3,4,5,6,7,8,9,10])\n",
    "print(arr_sample.var())\n",
    "print(np.sqrt(arr_sample.var()))\n"
   ],
   "id": "192a982ee6718926",
   "outputs": [
    {
     "name": "stdout",
     "output_type": "stream",
     "text": [
      "10.0\n",
      "3.1622776601683795\n"
     ]
    }
   ],
   "execution_count": 8
  },
  {
   "metadata": {
    "ExecuteTime": {
     "end_time": "2024-07-31T11:54:14.022531Z",
     "start_time": "2024-07-31T11:54:14.019548Z"
    }
   },
   "cell_type": "code",
   "source": [
    "arr_2d = np.array([[1,2,3],[4,5,6]])\n",
    "print(arr_2d.shape)\n",
    "print(arr_2d.ndim)\n",
    "print(arr_2d.reshape(3, 2))\n",
    "print(arr_2d.ravel())"
   ],
   "id": "de53b916422e8ac4",
   "outputs": [
    {
     "name": "stdout",
     "output_type": "stream",
     "text": [
      "(2, 3)\n",
      "2\n",
      "[[1 2]\n",
      " [3 4]\n",
      " [5 6]]\n",
      "[1 2 3 4 5 6]\n"
     ]
    }
   ],
   "execution_count": 10
  },
  {
   "metadata": {
    "ExecuteTime": {
     "end_time": "2024-07-31T11:58:24.855988Z",
     "start_time": "2024-07-31T11:58:24.851329Z"
    }
   },
   "cell_type": "code",
   "source": [
    "arr_class = np.array(\n",
    "    [[20, 20, 20, 20],\n",
    "    [15, 16, 15, 16],\n",
    "    [10, 20, 17, 19],])\n",
    "\n",
    "average_all = arr_class.mean()\n",
    "print(average_all)\n",
    "average_each = arr_class.mean(axis=1)\n",
    "print(average_each)"
   ],
   "id": "5f06d0897586eb48",
   "outputs": [
    {
     "name": "stdout",
     "output_type": "stream",
     "text": [
      "17.333333333333332\n",
      "[20.  15.5 16.5]\n"
     ]
    }
   ],
   "execution_count": 12
  },
  {
   "metadata": {},
   "cell_type": "code",
   "outputs": [],
   "execution_count": null,
   "source": "arr_class = np.array([[20, 20, 20, 20],])",
   "id": "431a31abc349a52d"
  }
 ],
 "metadata": {
  "kernelspec": {
   "display_name": "Python 3",
   "language": "python",
   "name": "python3"
  },
  "language_info": {
   "codemirror_mode": {
    "name": "ipython",
    "version": 2
   },
   "file_extension": ".py",
   "mimetype": "text/x-python",
   "name": "python",
   "nbconvert_exporter": "python",
   "pygments_lexer": "ipython2",
   "version": "2.7.6"
  }
 },
 "nbformat": 4,
 "nbformat_minor": 5
}
